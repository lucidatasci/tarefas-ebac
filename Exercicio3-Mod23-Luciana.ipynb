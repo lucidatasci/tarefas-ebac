{
 "cells": [
  {
   "cell_type": "markdown",
   "id": "a447f72c-44bf-4e4c-b15f-86a062fb82f7",
   "metadata": {},
   "source": [
    "# Exercício 3 - Módulo 23"
   ]
  },
  {
   "cell_type": "markdown",
   "id": "0915a015-aaf1-4e78-9a40-10926ee2e5e9",
   "metadata": {},
   "source": [
    "#### 1) Quais são os hiperparâmetros do RF?"
   ]
  },
  {
   "cell_type": "markdown",
   "id": "4599d414-a90f-420b-a124-2c9db1e029a4",
   "metadata": {},
   "source": [
    "Esses são os hiperparâmetros mais importantes do Random Forest:\n",
    "<ul>\n",
    "<li>max_depth</li>\n",
    "<li>min_sample_split</li>\n",
    "<li>min_samples_leaf</li>\n",
    "<li>n_estimators</li>\n",
    "<li>max_sample (bootstrap sample)</li>\n",
    "<li>max_features</li>\n",
    "</ul>\n"
   ]
  },
  {
   "cell_type": "markdown",
   "id": "d18380f0-1386-41aa-b595-1cd5886f1330",
   "metadata": {},
   "source": [
    "#### 2) Para que serve cada um deles?"
   ]
  },
  {
   "cell_type": "markdown",
   "id": "c9e48ead-5399-44ad-a871-cdf2572f45d0",
   "metadata": {},
   "source": [
    "<ul>\n",
    "  <li><b>max_depth</b> (profundidade máxima): limita o crescimento da árvore, determinando o número máximo de níveis entre a raiz e a folha mais externa. Ajuda a evitar o overfitting.</li>\n",
    "  <li><b>min_sample_split</b> (número mínimo de observações necessárias para uma quebra): determina o número mínimo de observações de uma folha para ocorrer a quebra, a fim de evitar overfitting.</li>\n",
    "  <li><b>min_sample_leaf</b> (número mínimo de observações por folha): limita o número de observações por folha, evitando folhas onde hajam muito poucas observações, evitando overfitting.</li>\n",
    "  <li><b>n_estimators</b> (número de árvores): determina o número de árvores na floresta. Quanto mais árvores, mais complexo o modelo, porém ele atinge uma saturação caso o número de árvores seja muito grande, então há um número ótimo a ser determinado</li>\n",
    "  <li><b>max_samples</b> (máximo de observações): determina a fração do dataset original que é passado a cada árvore. Assim como ocorre com o número de árvores, o desempenho do modelo satura após um valor, mostrando que o valor ótimo desse parâmetro não é o dataset completo, mas uma fração menor dele.</li>\n",
    "  <li><b>max_features</b> (máximo de variáveis): determina o número máximo de variáveis(features) em cada árvore. A partir de certo número, o desempenho do modelo começa a diminuir na base de testes enquanto continua a aumentar na base de treino, indicando que há um valor ideal. Esse valor ideal foi determinado como sendo a raiz quadrada do número original de variáveis.</li>  \n",
    "</ul>"
   ]
  },
  {
   "cell_type": "code",
   "execution_count": null,
   "id": "2400382d-a90d-41dd-9400-457900aa47d1",
   "metadata": {},
   "outputs": [],
   "source": []
  }
 ],
 "metadata": {
  "kernelspec": {
   "display_name": "Python 3 (ipykernel)",
   "language": "python",
   "name": "python3"
  },
  "language_info": {
   "codemirror_mode": {
    "name": "ipython",
    "version": 3
   },
   "file_extension": ".py",
   "mimetype": "text/x-python",
   "name": "python",
   "nbconvert_exporter": "python",
   "pygments_lexer": "ipython3",
   "version": "3.12.2"
  }
 },
 "nbformat": 4,
 "nbformat_minor": 5
}
