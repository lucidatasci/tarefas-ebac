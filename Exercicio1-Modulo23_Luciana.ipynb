{
 "cells": [
  {
   "cell_type": "markdown",
   "id": "eb7d1d34-ce4b-4dd2-b385-64ab21240a8e",
   "metadata": {},
   "source": [
    "# Exercício 1 - Módulo 23"
   ]
  },
  {
   "cell_type": "markdown",
   "id": "f02a09f8-05d0-47f2-8a0c-905a578096f9",
   "metadata": {},
   "source": [
    "#### 1) Monte um passo a passo para o Bagging:"
   ]
  },
  {
   "cell_type": "markdown",
   "id": "8738a988-12b5-4bfc-b017-fc22196e65c4",
   "metadata": {},
   "source": [
    "1 - A partir de um dataset, realizar a amostragem com reposição (ou Bootstrap), de forma a montar um número desejado de conjuntos reamostrados. \n",
    "2 - Aplicar um modelo em cada conjunto diferente criado. Os modelos podem ser iguais ou diferentes. \n",
    "3 - Com o resultado de cada modelo, determinar o resultado final. Se o resultado for binário, o resultado final é determinado pela maioria. Se o resultado for um valor numérico, o resultado final é a média de todos resultados. "
   ]
  },
  {
   "cell_type": "markdown",
   "id": "71ccd15e-793c-4012-8cff-66d23ed13395",
   "metadata": {},
   "source": [
    "#### 2) Explique com suas palavras o Bagging"
   ]
  },
  {
   "cell_type": "markdown",
   "id": "732c1879-7bf0-425c-8bea-e7cf690fe62c",
   "metadata": {},
   "source": [
    "O Bagging é uma técnica que tem a função de reduzir a variância da aplicação de um modelo individual. Ao criar diversos conjuntos de dados reamostrados e aplicar o modelo para cada um, aproxima-se o resultado de um valor \"ideal\". Os conjuntos de dados são criados pela amostragem com reposição (também chamada de Bootstrap), onde se \"sorteia\" cada linha do novo conjunto a partir dos dados originais, onde cada linha tem todas as possibilidades independente das outras linhas. É como se os dados estivessem dentro de uma sacola, e cada um é sorteado por vez, sendo colocado de volta dentro da mesma sacola. "
   ]
  },
  {
   "cell_type": "markdown",
   "id": "1e1d80ab-1564-4c2f-9511-6613fc54df01",
   "metadata": {},
   "source": [
    "#### 3) Implementar em python o código do Bagging"
   ]
  },
  {
   "cell_type": "code",
   "execution_count": 1,
   "id": "3bf75649-7fe3-4a58-a99f-dbda4cc454b9",
   "metadata": {},
   "outputs": [],
   "source": [
    "import numpy as np\n",
    "import random"
   ]
  },
  {
   "cell_type": "code",
   "execution_count": 6,
   "id": "d385982a-1df6-46e6-a960-95113f6e3d3b",
   "metadata": {},
   "outputs": [
    {
     "data": {
      "text/plain": [
       "array([100.87710608,  98.71453721,  98.10819272,  99.88427936,\n",
       "       100.89658814,  99.33400106, 100.97312102, 100.52137395,\n",
       "       101.52960651,  98.85715365, 100.68251228, 100.80089374,\n",
       "       100.61084819, 100.23909824, 100.71250471,  99.30930953,\n",
       "        98.62848972, 101.15374331, 100.49922099, 100.94602705,\n",
       "       100.8379988 , 101.4267278 , 101.59416474, 101.53192249,\n",
       "       101.13045473, 100.86785746,  99.51959023,  98.84465811,\n",
       "       101.20947431, 100.46171991, 101.72006971,  99.37636541,\n",
       "        99.9569396 , 100.67076966,  99.68587859, 101.74840047,\n",
       "        99.7839885 , 100.19982333, 100.8391775 , 100.17340915,\n",
       "       101.1317189 , 100.88976522,  98.30296687, 101.04479822,\n",
       "        99.61616147,  98.45044816, 100.34370708, 100.82548278,\n",
       "        99.21209782, 100.22118861, 101.30707546,  98.98521282,\n",
       "       100.23327824, 100.87394778, 100.22836742, 100.34289652,\n",
       "        99.43498266, 100.0150949 ,  99.46885778, 101.42299533,\n",
       "        99.31956082,  99.59798319, 100.15909211,  99.33412227,\n",
       "       100.80342714,  97.57230252, 100.12397058,  99.51106054,\n",
       "       100.84234113, 100.70094073, 100.70084095,  98.27096239,\n",
       "       101.41725515, 100.24585964,  99.18078189, 100.96831658,\n",
       "       102.616132  ,  99.76282264, 100.46715644,  99.95238102,\n",
       "        99.84316128, 102.32908547, 100.5259736 ,  99.62897314,\n",
       "       100.15394684,  99.5873183 , 100.08084115,  98.9994517 ,\n",
       "       100.00020121,  99.15931993, 100.87845094, 100.39526836,\n",
       "       100.05434942, 101.32173102,  99.78965333, 100.05296449,\n",
       "       100.10995491,  98.74523689, 100.64300812, 100.64868883])"
      ]
     },
     "execution_count": 6,
     "metadata": {},
     "output_type": "execute_result"
    }
   ],
   "source": [
    "#Criando um conjunto de dados com valor em torno de 100\n",
    "x = np.random.normal(loc= 100.0, size=100)\n",
    "x"
   ]
  },
  {
   "cell_type": "code",
   "execution_count": 14,
   "id": "1f5df93c-554e-4c82-9faa-76cf8220a934",
   "metadata": {},
   "outputs": [],
   "source": [
    "#Crio 4 listas de listas, através do resampling dos dados originais. Cada uma contem 100 linhas também.\n",
    "list_of_lists = []\n",
    "for i in range(4):\n",
    "    y = random.choices(x, k=100)\n",
    "    list_of_lists.append(y)\n"
   ]
  },
  {
   "cell_type": "code",
   "execution_count": 15,
   "id": "0a16a3c3-90ba-43f1-8115-07981d78e7f5",
   "metadata": {},
   "outputs": [
    {
     "data": {
      "text/plain": [
       "[100.31810524181537,\n",
       " 100.10416748593265,\n",
       " 100.10922542195995,\n",
       " 100.10115469093644]"
      ]
     },
     "execution_count": 15,
     "metadata": {},
     "output_type": "execute_result"
    }
   ],
   "source": [
    "#Calculo a média de cada conjunto (no caso seria o modelo)\n",
    "medias = []\n",
    "for list in list_of_lists:\n",
    "    media = np.mean(list)\n",
    "    medias.append(media)\n",
    "\n",
    "medias"
   ]
  },
  {
   "cell_type": "code",
   "execution_count": 17,
   "id": "e2d76144-0ba0-4a1a-aafa-65a973856995",
   "metadata": {},
   "outputs": [
    {
     "data": {
      "text/plain": [
       "100.15816321016109"
      ]
     },
     "execution_count": 17,
     "metadata": {},
     "output_type": "execute_result"
    }
   ],
   "source": [
    "#Calculo a media das médias para obter o resultado final\n",
    "\n",
    "resultado = np.mean(medias)\n",
    "resultado"
   ]
  },
  {
   "cell_type": "code",
   "execution_count": null,
   "id": "2b60ed2d-04e7-4682-bcea-ff9bb5ad694c",
   "metadata": {},
   "outputs": [],
   "source": []
  }
 ],
 "metadata": {
  "kernelspec": {
   "display_name": "Python 3 (ipykernel)",
   "language": "python",
   "name": "python3"
  },
  "language_info": {
   "codemirror_mode": {
    "name": "ipython",
    "version": 3
   },
   "file_extension": ".py",
   "mimetype": "text/x-python",
   "name": "python",
   "nbconvert_exporter": "python",
   "pygments_lexer": "ipython3",
   "version": "3.12.2"
  }
 },
 "nbformat": 4,
 "nbformat_minor": 5
}
