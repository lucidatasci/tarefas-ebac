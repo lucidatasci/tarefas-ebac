{
 "cells": [
  {
   "cell_type": "markdown",
   "id": "a447f72c-44bf-4e4c-b15f-86a062fb82f7",
   "metadata": {},
   "source": [
    "# Exercício 1 - Módulo 24"
   ]
  },
  {
   "cell_type": "markdown",
   "id": "0915a015-aaf1-4e78-9a40-10926ee2e5e9",
   "metadata": {},
   "source": [
    "#### 1) Cite 5 diferenças entre o Random Forest e o AdaBoost."
   ]
  },
  {
   "cell_type": "markdown",
   "id": "4599d414-a90f-420b-a124-2c9db1e029a4",
   "metadata": {},
   "source": [
    "| Random Forest | AdaBoost |\n",
    "|----------|----------|\n",
    "| Floresta é feita de árvores completas | Floresta feita de stumps |\n",
    "| Árvores são independentes | Stump é dependente do anterior |\n",
    "| A resposta de todas árvores possui mesmo peso | Respostas possuem pesos diferentes |\n",
    "| Menos sensível a outliers | Mais sensível a outliers |\n",
    "| Mais robusto e menos propenso a overfitting | Mais suscetível a overfitting, principalmente se tiver muitos dados |\n",
    "\n"
   ]
  },
  {
   "cell_type": "markdown",
   "id": "d18380f0-1386-41aa-b595-1cd5886f1330",
   "metadata": {},
   "source": [
    "#### 2) Acesse o link Scikit-learn–adaboost, leia a explicação (traduza se for preciso) e crie um jupyternotebook contendo o exemplo do AdaBoost."
   ]
  },
  {
   "cell_type": "code",
   "execution_count": 5,
   "id": "2400382d-a90d-41dd-9400-457900aa47d1",
   "metadata": {},
   "outputs": [
    {
     "data": {
      "text/plain": [
       "0.9533333333333334"
      ]
     },
     "execution_count": 5,
     "metadata": {},
     "output_type": "execute_result"
    }
   ],
   "source": [
    "from sklearn.model_selection import cross_val_score\n",
    "from sklearn.datasets import load_iris\n",
    "from sklearn.ensemble import AdaBoostClassifier\n",
    "\n",
    "X, y = load_iris(return_X_y=True)\n",
    "clf = AdaBoostClassifier(n_estimators=100, algorithm=\"SAMME\",)\n",
    "scores = cross_val_score(clf, X, y, cv=5)\n",
    "scores.mean()"
   ]
  },
  {
   "cell_type": "markdown",
   "id": "e17d30bf-5e35-498b-ad21-da771c49b073",
   "metadata": {},
   "source": [
    "#### 3) Cite 5 Hyperparametrosimportantes no AdaBoost."
   ]
  },
  {
   "cell_type": "markdown",
   "id": "c9e48ead-5399-44ad-a871-cdf2572f45d0",
   "metadata": {},
   "source": [
    "<ul>\n",
    "  <li><b>estimator :</b> object, default=None </li>\n",
    "  <li><b>n_estimators :</b> int, default=50 </li>\n",
    "  <li><b>learning_rate :</b> float, default=1.0 </li>\n",
    "  <li><b>random_state :</b> int, RandomState instance or None, default=None </li>\n",
    "  <li><b>algorithm :</b> default='SAMME'</li>  \n",
    "</ul>"
   ]
  },
  {
   "cell_type": "markdown",
   "id": "0a5258fe-8f80-400d-b4ad-d76b07b595c3",
   "metadata": {},
   "source": [
    "#### 4) Utilize o GridSearch para encontrar os melhores hyperparametros para o conjunto de dados do exemplo (load_iris)"
   ]
  },
  {
   "cell_type": "code",
   "execution_count": 6,
   "id": "7c89685b-5563-4807-be5b-5f12954eea80",
   "metadata": {},
   "outputs": [
    {
     "name": "stdout",
     "output_type": "stream",
     "text": [
      "Melhores hiperparâmetros:\n",
      "{'learning_rate': 0.1, 'n_estimators': 150}\n",
      "Melhor Score:\n",
      "0.96\n"
     ]
    }
   ],
   "source": [
    "from sklearn.model_selection import GridSearchCV\n",
    "\n",
    "\n",
    "clf = AdaBoostClassifier(algorithm=\"SAMME\")\n",
    "\n",
    "# Hiperparâmetros a serem testados\n",
    "param_grid = {\n",
    "    'n_estimators': [50, 100, 150],\n",
    "    'learning_rate': [0.1, 0.5, 1.0]\n",
    "}\n",
    "\n",
    "grid_search = GridSearchCV(estimator=clf, param_grid=param_grid, cv=5)\n",
    "grid_search.fit(X, y) # Busca em grade\n",
    "\n",
    "# Melhores hiperparâmetros\n",
    "best_params = grid_search.best_params_\n",
    "print(\"Melhores hiperparâmetros:\")\n",
    "print(best_params)\n",
    "\n",
    "# Melhor score médio\n",
    "best_score = grid_search.best_score_\n",
    "print(\"Melhor Score:\")\n",
    "print(best_score)\n"
   ]
  },
  {
   "cell_type": "code",
   "execution_count": null,
   "id": "bef1fcf5-48ae-4e49-b1da-02df76ac909a",
   "metadata": {},
   "outputs": [],
   "source": []
  }
 ],
 "metadata": {
  "kernelspec": {
   "display_name": "Python 3 (ipykernel)",
   "language": "python",
   "name": "python3"
  },
  "language_info": {
   "codemirror_mode": {
    "name": "ipython",
    "version": 3
   },
   "file_extension": ".py",
   "mimetype": "text/x-python",
   "name": "python",
   "nbconvert_exporter": "python",
   "pygments_lexer": "ipython3",
   "version": "3.12.2"
  }
 },
 "nbformat": 4,
 "nbformat_minor": 5
}
