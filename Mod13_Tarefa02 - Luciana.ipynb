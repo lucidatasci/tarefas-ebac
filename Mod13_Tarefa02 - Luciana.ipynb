{
 "cells": [
  {
   "cell_type": "markdown",
   "metadata": {},
   "source": [
    "# EBAC - Regressão II - regressão múltipla\n",
    "\n",
    "## Tarefa I"
   ]
  },
  {
   "cell_type": "markdown",
   "metadata": {},
   "source": [
    "#### Previsão de renda II\n",
    "\n",
    "Vamos continuar trabalhando com a base 'previsao_de_renda.csv', que é a base do seu próximo projeto. Vamos usar os recursos que vimos até aqui nesta base.\n",
    "\n",
    "|variavel|descrição|\n",
    "|-|-|\n",
    "|data_ref                | Data de referência de coleta das variáveis |\n",
    "|index                   | Código de identificação do cliente|\n",
    "|sexo                    | Sexo do cliente|\n",
    "|posse_de_veiculo        | Indica se o cliente possui veículo|\n",
    "|posse_de_imovel         | Indica se o cliente possui imóvel|\n",
    "|qtd_filhos              | Quantidade de filhos do cliente|\n",
    "|tipo_renda              | Tipo de renda do cliente|\n",
    "|educacao                | Grau de instrução do cliente|\n",
    "|estado_civil            | Estado civil do cliente|\n",
    "|tipo_residencia         | Tipo de residência do cliente (própria, alugada etc)|\n",
    "|idade                   | Idade do cliente|\n",
    "|tempo_emprego           | Tempo no emprego atual|\n",
    "|qt_pessoas_residencia   | Quantidade de pessoas que moram na residência|\n",
    "|renda                   | Renda em reais|"
   ]
  },
  {
   "cell_type": "code",
   "execution_count": 17,
   "metadata": {},
   "outputs": [],
   "source": [
    "import pandas as pd"
   ]
  },
  {
   "cell_type": "code",
   "execution_count": 18,
   "metadata": {},
   "outputs": [],
   "source": [
    "df = pd.read_csv('previsao_de_renda.csv')"
   ]
  },
  {
   "cell_type": "code",
   "execution_count": 19,
   "metadata": {},
   "outputs": [
    {
     "name": "stdout",
     "output_type": "stream",
     "text": [
      "<class 'pandas.core.frame.DataFrame'>\n",
      "RangeIndex: 15000 entries, 0 to 14999\n",
      "Data columns (total 15 columns):\n",
      " #   Column                 Non-Null Count  Dtype  \n",
      "---  ------                 --------------  -----  \n",
      " 0   Unnamed: 0             15000 non-null  int64  \n",
      " 1   data_ref               15000 non-null  object \n",
      " 2   id_cliente             15000 non-null  int64  \n",
      " 3   sexo                   15000 non-null  object \n",
      " 4   posse_de_veiculo       15000 non-null  bool   \n",
      " 5   posse_de_imovel        15000 non-null  bool   \n",
      " 6   qtd_filhos             15000 non-null  int64  \n",
      " 7   tipo_renda             15000 non-null  object \n",
      " 8   educacao               15000 non-null  object \n",
      " 9   estado_civil           15000 non-null  object \n",
      " 10  tipo_residencia        15000 non-null  object \n",
      " 11  idade                  15000 non-null  int64  \n",
      " 12  tempo_emprego          12427 non-null  float64\n",
      " 13  qt_pessoas_residencia  15000 non-null  float64\n",
      " 14  renda                  15000 non-null  float64\n",
      "dtypes: bool(2), float64(3), int64(4), object(6)\n",
      "memory usage: 1.5+ MB\n"
     ]
    }
   ],
   "source": [
    "df.info()"
   ]
  },
  {
   "cell_type": "markdown",
   "metadata": {},
   "source": [
    "1. Separe a base em treinamento e teste (25% para teste, 75% para treinamento).\n",
    "2. Rode uma regularização *ridge* com alpha = [0, 0.001, 0.005, 0.01, 0.05, 0.1] e avalie o $R^2$ na base de testes. Qual o melhor modelo?\n",
    "3. Faça o mesmo que no passo 2, com uma regressão *LASSO*. Qual método chega a um melhor resultado?\n",
    "4. Rode um modelo *stepwise*. Avalie o $R^2$ na vase de testes. Qual o melhor resultado?\n",
    "5. Compare os parâmetros e avalie eventuais diferenças. Qual modelo você acha o melhor de todos?\n",
    "6. Partindo dos modelos que você ajustou, tente melhorar o $R^2$ na base de testes. Use a criatividade, veja se consegue inserir alguma transformação ou combinação de variáveis.\n",
    "7. Ajuste uma árvore de regressão e veja se consegue um $R^2$ melhor com ela."
   ]
  },
  {
   "cell_type": "code",
   "execution_count": 23,
   "metadata": {},
   "outputs": [],
   "source": [
    "#1 Separe a base em treinamento e teste (25% para teste, 75% para treinamento).\n",
    "\n",
    "from sklearn.model_selection import train_test_split\n",
    "import patsy\n",
    "\n",
    "formula = 'renda ~ C(sexo) + posse_de_veiculo + posse_de_imovel + qtd_filhos + C(tipo_renda)+ C(educacao) + C(estado_civil) + C(tipo_residencia) + idade +  tempo_emprego + qt_pessoas_residencia'\n",
    "y, X = patsy.dmatrices(formula, data=df, return_type='dataframe') # é necessário criar as matrizes de design antes de dividir a base\n",
    "\n",
    "# dividindo os dados:\n",
    "X_train, X_test, y_train, y_test = train_test_split(X,y) #25% é default"
   ]
  },
  {
   "cell_type": "code",
   "execution_count": 47,
   "metadata": {
    "scrolled": false
   },
   "outputs": [
    {
     "name": "stdout",
     "output_type": "stream",
     "text": [
      "Regularização Ridge:\n",
      "\n",
      "alpha = 0,      R² = 0.2475\n",
      "alpha = 0.001,      R² = 0.2475\n",
      "alpha = 0.005,      R² = 0.2477\n",
      "alpha = 0.01,      R² = 0.2478\n",
      "alpha = 0.05,      R² = 0.2451\n",
      "alpha = 0.1,      R² = 0.2391\n"
     ]
    }
   ],
   "source": [
    "#2 Rode uma regularização ridge com alpha = [0, 0.001, 0.005, 0.01, 0.05, 0.1] e avalie o  𝑅2 na base de testes. Qual o melhor modelo?\n",
    "\n",
    "import statsmodels.api as sm\n",
    "import statsmodels.formula.api as smf\n",
    "from sklearn.metrics import r2_score\n",
    "\n",
    "alphas = [0, 0.001, 0.005, 0.01, 0.05, 0.1]\n",
    "\n",
    "model = sm.OLS(y_train, X_train)\n",
    "print(\"Regularização Ridge:\\n\")\n",
    "for alpha in alphas:\n",
    "    reg = model.fit_regularized(method = 'elastic_net', refit = True , L1_wt = 0 , alpha = alpha) #L1_wt define a regularização ridge\n",
    "    y_pred = reg.predict(X_test)    \n",
    "    r2 = r2_score(y_test, y_pred) # calcula R² na base de teste\n",
    "    print(f'alpha = {alpha},      R² = {r2.round(4)}')"
   ]
  },
  {
   "cell_type": "code",
   "execution_count": 48,
   "metadata": {},
   "outputs": [
    {
     "name": "stdout",
     "output_type": "stream",
     "text": [
      "Regularização LASSO:\n",
      "\n",
      "alpha = 0,      R² = 0.2475\n",
      "alpha = 0.001,      R² = 0.2475\n",
      "alpha = 0.005,      R² = 0.2475\n",
      "alpha = 0.01,      R² = 0.2475\n",
      "alpha = 0.05,      R² = 0.2476\n",
      "alpha = 0.1,      R² = 0.2476\n"
     ]
    }
   ],
   "source": [
    "#3 Faça o mesmo que no passo 2, com uma regressão LASSO. Qual método chega a um melhor resultado? (base de testes)\n",
    "\n",
    "print(\"Regularização LASSO:\\n\")\n",
    "for alpha in alphas:\n",
    "    reg = model.fit_regularized(method = 'elastic_net', refit = True , L1_wt = 1 , alpha = alpha) #L1_wt define a regularização LASSO\n",
    "    y_pred = reg.predict(X_test)    \n",
    "    r2 = r2_score(y_test, y_pred)\n",
    "    print(f'alpha = {alpha},      R² = {r2.round(4)}')"
   ]
  },
  {
   "cell_type": "code",
   "execution_count": 75,
   "metadata": {},
   "outputs": [],
   "source": [
    "#4 Rode um modelo stepwise (na base de treino). Avalie o  𝑅2  na base de testes. Qual o melhor resultado?\n",
    "\n",
    "def stepwise_selection(X, y, initial_list=[], threshold_in=0.01, threshold_out = 0.05,  verbose=True):\n",
    "   \n",
    "    included = list(initial_list)\n",
    "    while True:\n",
    "        changed=False\n",
    "        # forward step\n",
    "        excluded = list(set(X.columns)-set(included))\n",
    "        new_pval = pd.Series(index=excluded,  dtype='float64')\n",
    "        for new_column in excluded:\n",
    "            #print(included+[new_column])\n",
    "            model = sm.OLS(y, sm.add_constant(pd.DataFrame(X[included+[new_column]]))).fit()\n",
    "            new_pval[new_column] = model.pvalues[new_column]\n",
    "        best_pval = new_pval.min()\n",
    "        if best_pval < threshold_in:\n",
    "            best_feature = new_pval.idxmin()\n",
    "            included.append(best_feature)\n",
    "            changed=True\n",
    "            if verbose:\n",
    "                 print(f'Adicionado {best_feature} com p-value {best_pval}\\n')\n",
    "\n",
    "        # backward step\n",
    "        \n",
    "        model = sm.OLS(y, sm.add_constant(pd.DataFrame(X[included]))).fit()\n",
    "        # use all coefs except intercept\n",
    "        pvalues = model.pvalues.iloc[1:]\n",
    "        worst_pval = pvalues.max() # null if pvalues is empty\n",
    "        if worst_pval > threshold_out:\n",
    "            changed=True\n",
    "            worst_feature = pvalues.idxmax()\n",
    "            included.remove(worst_feature)\n",
    "            if verbose:\n",
    "                print(f'Removido {worst_feature} com p-value {worst_pval}\\n')\n",
    "        if not changed:\n",
    "            break\n",
    "    return included"
   ]
  },
  {
   "cell_type": "code",
   "execution_count": 76,
   "metadata": {
    "scrolled": false
   },
   "outputs": [
    {
     "name": "stdout",
     "output_type": "stream",
     "text": [
      "Adicionado tempo_emprego com p-value 0.0\n",
      "\n",
      "Adicionado C(sexo)[T.M] com p-value 4.590397776112999e-262\n",
      "\n",
      "Adicionado C(tipo_renda)[T.Empresário] com p-value 6.178959124847061e-06\n",
      "\n",
      "Adicionado Intercept com p-value 4.2039982875569675e-06\n",
      "\n",
      "Adicionado idade com p-value 3.0126227666036464e-05\n",
      "\n",
      "Adicionado C(educacao)[T.Superior completo] com p-value 1.0064463601189161e-05\n",
      "\n",
      "Adicionado posse_de_imovel[T.True] com p-value 0.00705021225251613\n",
      "\n",
      "\n",
      "Variáveis resultantes:\n",
      "\n",
      "['tempo_emprego', 'C(sexo)[T.M]', 'C(tipo_renda)[T.Empresário]', 'Intercept', 'idade', 'C(educacao)[T.Superior completo]', 'posse_de_imovel[T.True]']\n"
     ]
    }
   ],
   "source": [
    "result = stepwise_selection(X_train, y_train)\n",
    "print('\\nVariáveis resultantes:\\n')\n",
    "print(result)"
   ]
  },
  {
   "cell_type": "code",
   "execution_count": 84,
   "metadata": {},
   "outputs": [
    {
     "name": "stdout",
     "output_type": "stream",
     "text": [
      "R² do modelo stepwise: 0.2486\n"
     ]
    }
   ],
   "source": [
    "X_train_selected = X_train[result]  # filtrando as variáveis selecionadas pelo método stepwise\n",
    "X_test_selected = X_test[result]\n",
    "\n",
    "model = sm.OLS(y_train, sm.add_constant(X_train_selected)) #ajustando modelo com essas variaveis\n",
    "result_model = model.fit()\n",
    "y_pred = result_model.predict(sm.add_constant(X_test_selected))\n",
    "\n",
    "\n",
    "r2 = r2_score(y_test, y_pred) # calculando R² na base de testes\n",
    "print(\"R² do modelo stepwise:\", r2.round(4))\n",
    "\n"
   ]
  },
  {
   "cell_type": "code",
   "execution_count": null,
   "metadata": {},
   "outputs": [],
   "source": [
    "#5 Compare os parâmetros e avalie eventuais diferenças. Qual modelo você acha o melhor de todos?\n",
    "\n",
    "O método stepwise gerou um R² melhor comparado com os outros modelos. "
   ]
  },
  {
   "cell_type": "code",
   "execution_count": null,
   "metadata": {},
   "outputs": [],
   "source": [
    "#6 Partindo dos modelos que você ajustou, tente melhorar o  𝑅2   na base de testes. Use a criatividade, veja se consegue inserir alguma transformação ou combinação de variáveis."
   ]
  },
  {
   "cell_type": "code",
   "execution_count": 95,
   "metadata": {},
   "outputs": [
    {
     "name": "stdout",
     "output_type": "stream",
     "text": [
      "R² do modelo stepwise com log no eixo y: 0.3629\n"
     ]
    }
   ],
   "source": [
    "import numpy as np\n",
    "\n",
    "#aplicando logaritmo no eixo y para melhorar o ajuste e repetindo o processo com o método stepwise:\n",
    "formula2 = 'np.log(renda) ~ C(sexo) + posse_de_veiculo + posse_de_imovel + qtd_filhos + C(tipo_renda)+ C(educacao) + C(estado_civil) + C(tipo_residencia) + idade +  tempo_emprego + qt_pessoas_residencia'\n",
    "\n",
    "y, X = patsy.dmatrices(formula2, data=df, return_type='dataframe') # é necessário criar as matrizes de design antes de dividir a base\n",
    "\n",
    "# dividindo os dados:\n",
    "X_train, X_test, y_train, y_test = train_test_split(X,y) #25% é default\n",
    "\n",
    "X_train_selected = X_train[result]  # filtrando as variáveis selecionadas pelo método stepwise\n",
    "X_test_selected = X_test[result]\n",
    "\n",
    "model = sm.OLS(y_train, sm.add_constant(X_train_selected)) #ajustando modelo com essas variaveis\n",
    "result_model = model.fit()\n",
    "y_pred = result_model.predict(sm.add_constant(X_test_selected))\n",
    "\n",
    "\n",
    "r2 = r2_score(y_test, y_pred) # calculando R² na base de testes\n",
    "print(\"R² do modelo stepwise com log no eixo y:\", r2.round(4))\n",
    "\n"
   ]
  },
  {
   "cell_type": "code",
   "execution_count": 92,
   "metadata": {},
   "outputs": [],
   "source": [
    "#7 Ajuste uma árvore de regressão e veja se consegue um  𝑅2  melhor com ela."
   ]
  },
  {
   "cell_type": "code",
   "execution_count": 113,
   "metadata": {},
   "outputs": [
    {
     "name": "stdout",
     "output_type": "stream",
     "text": [
      "R² da árvore: 0.376\n"
     ]
    }
   ],
   "source": [
    "from sklearn.tree import DecisionTreeRegressor\n",
    "\n",
    "arvore = DecisionTreeRegressor(max_depth=6)\n",
    "arvore.fit(X_train, y_train)\n",
    "r2_arvore = arvore.score(X_test, y_test)\n",
    "print(\"R² da árvore:\", r2_arvore.round(4))"
   ]
  },
  {
   "cell_type": "code",
   "execution_count": null,
   "metadata": {},
   "outputs": [],
   "source": [
    "# Uma árvore com profundidade 6 gera o melhor valor de R² comparado com todos os modelos testados anteriormente. "
   ]
  }
 ],
 "metadata": {
  "kernelspec": {
   "display_name": "Python 3 (ipykernel)",
   "language": "python",
   "name": "python3"
  },
  "language_info": {
   "codemirror_mode": {
    "name": "ipython",
    "version": 3
   },
   "file_extension": ".py",
   "mimetype": "text/x-python",
   "name": "python",
   "nbconvert_exporter": "python",
   "pygments_lexer": "ipython3",
   "version": "3.11.5"
  }
 },
 "nbformat": 4,
 "nbformat_minor": 4
}
