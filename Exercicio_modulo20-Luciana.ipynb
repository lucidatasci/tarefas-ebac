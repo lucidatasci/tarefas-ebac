{
 "cells": [
  {
   "cell_type": "markdown",
   "id": "2a7ba408-3d33-45fd-9836-6d40d0b1f32e",
   "metadata": {},
   "source": [
    "## Fórmula de Bhaskara\n",
    "\n",
    "A solução para uma função de segundo grau depende de suas raízes (valores de x). Como já vimos,os coeficientes precisam ser números reais e o angular diferente de zero. Sendo assim, temos a seguinte fórmula de Bhaskara:"
   ]
  },
  {
   "cell_type": "markdown",
   "id": "511ee156-4a1d-467f-aec4-d7ec21df3edc",
   "metadata": {},
   "source": [
    " # <p style=\"text-align: center;\">$x=\\frac{-b\\pm\\sqrt{b^2 -4 \\cdot a \\cdot c}}{2 \\cdot a}$</p>\n",
    " <p style=\"text-align: center;\"><i>Fórmula de Bhaskara.</i></p>"
   ]
  },
  {
   "cell_type": "markdown",
   "id": "bf23234d-ac79-42c1-a1dc-e814932ffc2f",
   "metadata": {},
   "source": [
    "Para melhor compreensão o seu cálculo é dividido em duas partes: discriminante da equação e operações para determinar as raízes.\n",
    "\n",
    "#### Discriminante\n",
    "\n",
    "A figura dentro da raiz na fórmula de Bhaskara é nomeada de discriminante. Seu símbolo é a letra grega delta e apresenta a determinada fórmula:"
   ]
  },
  {
   "cell_type": "markdown",
   "id": "164aecfd-6d11-44eb-b608-487dc0fc6362",
   "metadata": {},
   "source": [
    "#  <p style=\"text-align: center;\">$\\Delta=b^2 -4 \\cdot a \\cdot c$</p>\n",
    " <p style=\"text-align: center;\"><i>Fórmula da discriminante.</i></p>"
   ]
  },
  {
   "cell_type": "markdown",
   "id": "0bd0a79a-f687-4805-9c00-3f1dfd937f0e",
   "metadata": {},
   "source": [
    "<ul>\n",
    "<li>Se o delta for maior que zero, a equação terá dois valores reais e distintos.</li>\n",
    "<li>Se o delta for igual a zero, a equação terá somente um valor real ou dois resultados iguais.</li>\n",
    "<li>Se o delta for menor que zero, a equação não possuirá valores reais</li>\n",
    "</ul>"
   ]
  },
  {
   "cell_type": "code",
   "execution_count": null,
   "id": "e2d4133c-dc1f-44be-91d3-4f228d93d2b1",
   "metadata": {},
   "outputs": [],
   "source": []
  }
 ],
 "metadata": {
  "kernelspec": {
   "display_name": "Python 3 (ipykernel)",
   "language": "python",
   "name": "python3"
  },
  "language_info": {
   "codemirror_mode": {
    "name": "ipython",
    "version": 3
   },
   "file_extension": ".py",
   "mimetype": "text/x-python",
   "name": "python",
   "nbconvert_exporter": "python",
   "pygments_lexer": "ipython3",
   "version": "3.12.2"
  }
 },
 "nbformat": 4,
 "nbformat_minor": 5
}
